{
 "cells": [
  {
   "cell_type": "code",
   "execution_count": 1,
   "id": "8afdd77e",
   "metadata": {},
   "outputs": [],
   "source": [
    "import pandas as pd"
   ]
  },
  {
   "cell_type": "code",
   "execution_count": 2,
   "id": "fff73f78",
   "metadata": {},
   "outputs": [
    {
     "data": {
      "text/plain": "           gender             age                         botometer\n             male  female    <=18   19-29   30-39    >=40  botscore\nuser_id                                                            \nuI_IN0001  0.9999  0.0001  0.0000  0.0000  0.0002  0.9997      0.13\nuI_IN0002  0.9998  0.0002  0.0001  0.0008  0.0334  0.9657      0.12\nuI_IN0003  0.9938  0.0062  0.5422  0.4152  0.0263  0.0163      0.06\nuI_IN0004  0.0264  0.9736  0.0046  0.0133  0.9776  0.0045      0.02\nuI_IN0005  0.9989  0.0011  0.0002  0.0003  0.0006  0.9990      0.08",
      "text/html": "<div>\n<style scoped>\n    .dataframe tbody tr th:only-of-type {\n        vertical-align: middle;\n    }\n\n    .dataframe tbody tr th {\n        vertical-align: top;\n    }\n\n    .dataframe thead tr th {\n        text-align: left;\n    }\n\n    .dataframe thead tr:last-of-type th {\n        text-align: right;\n    }\n</style>\n<table border=\"1\" class=\"dataframe\">\n  <thead>\n    <tr>\n      <th></th>\n      <th colspan=\"2\" halign=\"left\">gender</th>\n      <th colspan=\"4\" halign=\"left\">age</th>\n      <th>botometer</th>\n    </tr>\n    <tr>\n      <th></th>\n      <th>male</th>\n      <th>female</th>\n      <th>&lt;=18</th>\n      <th>19-29</th>\n      <th>30-39</th>\n      <th>&gt;=40</th>\n      <th>botscore</th>\n    </tr>\n    <tr>\n      <th>user_id</th>\n      <th></th>\n      <th></th>\n      <th></th>\n      <th></th>\n      <th></th>\n      <th></th>\n      <th></th>\n    </tr>\n  </thead>\n  <tbody>\n    <tr>\n      <th>uI_IN0001</th>\n      <td>0.9999</td>\n      <td>0.0001</td>\n      <td>0.0000</td>\n      <td>0.0000</td>\n      <td>0.0002</td>\n      <td>0.9997</td>\n      <td>0.13</td>\n    </tr>\n    <tr>\n      <th>uI_IN0002</th>\n      <td>0.9998</td>\n      <td>0.0002</td>\n      <td>0.0001</td>\n      <td>0.0008</td>\n      <td>0.0334</td>\n      <td>0.9657</td>\n      <td>0.12</td>\n    </tr>\n    <tr>\n      <th>uI_IN0003</th>\n      <td>0.9938</td>\n      <td>0.0062</td>\n      <td>0.5422</td>\n      <td>0.4152</td>\n      <td>0.0263</td>\n      <td>0.0163</td>\n      <td>0.06</td>\n    </tr>\n    <tr>\n      <th>uI_IN0004</th>\n      <td>0.0264</td>\n      <td>0.9736</td>\n      <td>0.0046</td>\n      <td>0.0133</td>\n      <td>0.9776</td>\n      <td>0.0045</td>\n      <td>0.02</td>\n    </tr>\n    <tr>\n      <th>uI_IN0005</th>\n      <td>0.9989</td>\n      <td>0.0011</td>\n      <td>0.0002</td>\n      <td>0.0003</td>\n      <td>0.0006</td>\n      <td>0.9990</td>\n      <td>0.08</td>\n    </tr>\n  </tbody>\n</table>\n</div>"
     },
     "execution_count": 2,
     "metadata": {},
     "output_type": "execute_result"
    }
   ],
   "source": [
    "demo = pd.read_csv(\"data/Indianapolis_IN/demographics.tsv\", sep=\"\\t\", header=[0, 1], index_col=[0])\n",
    "demo.head()"
   ]
  },
  {
   "cell_type": "code",
   "execution_count": null,
   "id": "5d2e7b2f",
   "metadata": {
    "pycharm": {
     "is_executing": true
    }
   },
   "outputs": [],
   "source": [
    "tweets = pd.read_csv(\"data/Indianapolis_IN/tweets.tsv.gz\", sep=\"\\t\", index_col=\"tweet_id\")\n",
    "tweets[\"created_at\"] = pd.to_datetime(tweets[\"created_at\"])\n",
    "tweets.head()"
   ]
  },
  {
   "cell_type": "code",
   "execution_count": null,
   "id": "12514f34",
   "metadata": {
    "pycharm": {
     "is_executing": true
    }
   },
   "outputs": [],
   "source": []
  }
 ],
 "metadata": {
  "kernelspec": {
   "name": "pycharm-7bb4a08e",
   "language": "python",
   "display_name": "PyCharm (Thesis)"
  },
  "language_info": {
   "codemirror_mode": {
    "name": "ipython",
    "version": 3
   },
   "file_extension": ".py",
   "mimetype": "text/x-python",
   "name": "python",
   "nbconvert_exporter": "python",
   "pygments_lexer": "ipython3",
   "version": "3.10.4"
  }
 },
 "nbformat": 4,
 "nbformat_minor": 5
}